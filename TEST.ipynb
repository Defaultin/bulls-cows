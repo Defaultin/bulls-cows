{
 "cells": [
  {
   "cell_type": "code",
   "execution_count": 16,
   "metadata": {},
   "outputs": [],
   "source": [
    "from itertools import product\n",
    "from itertools import count\n",
    "from random import choice\n",
    "everything = [\"\".join(x) for x in product('0123456789', repeat=3)if len(set(x)) == len(x)]\n",
    "\n",
    "\n",
    "def bulls_n_cows(guess, answer):  \n",
    "    assert guess in everything and answer in everything  \n",
    "    bulls = sum(1 for x, y in zip(guess, answer)if x == y) \n",
    "    cows = len(set(guess) & set(answer)) - bulls  \n",
    "    return bulls, cows\n",
    "\n",
    "\n",
    "def is_compatible(guess, history):\n",
    "    return all(bulls_n_cows(guess, previous_guess) == (bulls, cows) for previous_guess, bulls, cows in history)\n",
    "\n",
    "\n",
    "def naive_player(answer, verbose=True):\n",
    "    if verbose:\n",
    "        print(\"Компьютер загадал число {} и пробует угадать его.\".format(answer))\n",
    "    guess_space = set(everything)\n",
    "    history = []\n",
    "\n",
    "    for attempt in count(1):\n",
    "        while True:\n",
    "            guess = choice(list(guess_space))\n",
    "            guess_space.remove(guess)\n",
    "            if is_compatible(guess, history):\n",
    "                break\n",
    "        bulls, cows = bulls_n_cows(guess, answer)\n",
    "        history.append((guess, bulls, cows))\n",
    "        if verbose:\n",
    "            print(\"Попытка №{}. Предпологаемое число: {} = {} быков и {} коров.\".format(attempt, guess, bulls, cows))\n",
    "        if bulls == len(guess):\n",
    "            if verbose:\n",
    "                print(\"Компьютер угадал!\")\n",
    "            break\n",
    "    return history"
   ]
  },
  {
   "cell_type": "code",
   "execution_count": 17,
   "metadata": {},
   "outputs": [
    {
     "name": "stdout",
     "output_type": "stream",
     "text": [
      "Компьютер загадал число 957 и пробует угадать его.\n",
      "Попытка №1. Предпологаемое число: 468 = 0 быков и 0 коров.\n",
      "Попытка №2. Предпологаемое число: 517 = 1 быков и 1 коров.\n",
      "Попытка №3. Предпологаемое число: 713 = 0 быков и 1 коров.\n",
      "Попытка №4. Предпологаемое число: 957 = 3 быков и 0 коров.\n",
      "Компьютер угадал!\n",
      "Wall time: 13.7 ms\n"
     ]
    },
    {
     "data": {
      "text/plain": [
       "[('468', 0, 0), ('517', 1, 1), ('713', 0, 1), ('957', 3, 0)]"
      ]
     },
     "execution_count": 17,
     "metadata": {},
     "output_type": "execute_result"
    }
   ],
   "source": [
    "%%time\n",
    "naive_player(choice(everything))"
   ]
  },
  {
   "cell_type": "code",
   "execution_count": null,
   "metadata": {},
   "outputs": [],
   "source": []
  }
 ],
 "metadata": {
  "kernelspec": {
   "display_name": "Python 3",
   "language": "python",
   "name": "python3"
  },
  "language_info": {
   "codemirror_mode": {
    "name": "ipython",
    "version": 3
   },
   "file_extension": ".py",
   "mimetype": "text/x-python",
   "name": "python",
   "nbconvert_exporter": "python",
   "pygments_lexer": "ipython3",
   "version": "3.7.3"
  }
 },
 "nbformat": 4,
 "nbformat_minor": 2
}
