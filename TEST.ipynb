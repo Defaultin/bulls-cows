{
 "cells": [
  {
   "cell_type": "code",
   "execution_count": null,
   "metadata": {},
   "outputs": [],
   "source": [
    "from itertools import product\n",
    "from itertools import count\n",
    "from random import choice\n",
    "everything = [\"\".join(x) for x in product('0123456789', repeat=3)if len(set(x)) == len(x)]\n",
    "\n",
    "\n",
    "def bulls_n_cows(guess, answer):  \n",
    "    assert guess in everything and answer in everything  \n",
    "    bulls = sum(1 for x, y in zip(guess, answer)if x == y) \n",
    "    cows = len(set(guess) & set(answer)) - bulls  \n",
    "    return bulls, cows\n",
    "\n",
    "\n",
    "def is_compatible(guess, history):\n",
    "    return all(bulls_n_cows(guess, previous_guess) == (bulls, cows) for previous_guess, bulls, cows in history)\n",
    "\n",
    "\n",
    "def naive_player(answer, verbose=True):\n",
    "    if verbose:\n",
    "        print(\"Компьютер загадал число {} и пробует угадать его.\".format(answer))\n",
    "    guess_space = set(everything)\n",
    "    history = []\n",
    "\n",
    "    for attempt in count(1):\n",
    "        while True:\n",
    "            guess = choice(list(guess_space))\n",
    "            guess_space.remove(guess)\n",
    "            if is_compatible(guess, history):\n",
    "                break\n",
    "        bulls, cows = bulls_n_cows(guess, answer)\n",
    "        history.append((guess, bulls, cows))\n",
    "        if verbose:\n",
    "            print(\"Попытка №{}. Предпологаемое число: {} = {} быков и {} коров.\".format(attempt, guess, bulls, cows))\n",
    "        if bulls == len(guess):\n",
    "            if verbose:\n",
    "                print(\"Компьютер угадал!\")\n",
    "            break\n",
    "    return history"
   ]
  },
  {
   "cell_type": "code",
   "execution_count": null,
   "metadata": {},
   "outputs": [],
   "source": [
    "%%time\n",
    "naive_player(choice(everything))"
   ]
  }
 ],
 "metadata": {
  "kernelspec": {
   "display_name": "Python 3",
   "language": "python",
   "name": "python3"
  },
  "language_info": {
   "codemirror_mode": {
    "name": "ipython",
    "version": 3
   },
   "file_extension": ".py",
   "mimetype": "text/x-python",
   "name": "python",
   "nbconvert_exporter": "python",
   "pygments_lexer": "ipython3",
   "version": "3.7.3"
  }
 },
 "nbformat": 4,
 "nbformat_minor": 2
}
